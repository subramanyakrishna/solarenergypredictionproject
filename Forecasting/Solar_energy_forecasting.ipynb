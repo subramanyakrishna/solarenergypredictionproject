{
 "cells": [
  {
   "cell_type": "code",
   "execution_count": 1,
   "id": "6422d646",
   "metadata": {
    "colab": {
     "base_uri": "https://localhost:8080/"
    },
    "id": "6fc596bd",
    "outputId": "9b99dbd9-f594-414f-a099-0d5225ec785f"
   },
   "outputs": [],
   "source": [
    "%config Completer.use_jedi = False"
   ]
  },
  {
   "cell_type": "code",
   "execution_count": 2,
   "id": "7f284bc5",
   "metadata": {
    "id": "0498923b"
   },
   "outputs": [],
   "source": [
    "import pandas as pd\n",
    "import numpy as np\n",
    "import matplotlib.pyplot as plt\n",
    "import seaborn as sns\n",
    "import tensorflow as tf\n",
    "import sklearn \n"
   ]
  },
  {
   "cell_type": "code",
   "execution_count": 11,
   "id": "88766385",
   "metadata": {
    "id": "4bc49c18"
   },
   "outputs": [],
   "source": [
    "df=pd.read_excel('hourly-dataset_without-night-hrs.xlsx')"
   ]
  },
  {
   "cell_type": "code",
   "execution_count": 12,
   "id": "b25fe5a2",
   "metadata": {
    "colab": {
     "base_uri": "https://localhost:8080/",
     "height": 436
    },
    "id": "23685466",
    "outputId": "f0dfbd2e-a44d-43a1-ccdc-fd2d925f5b27"
   },
   "outputs": [
    {
     "data": {
      "text/html": [
       "<div>\n",
       "<style scoped>\n",
       "    .dataframe tbody tr th:only-of-type {\n",
       "        vertical-align: middle;\n",
       "    }\n",
       "\n",
       "    .dataframe tbody tr th {\n",
       "        vertical-align: top;\n",
       "    }\n",
       "\n",
       "    .dataframe thead th {\n",
       "        text-align: right;\n",
       "    }\n",
       "</style>\n",
       "<table border=\"1\" class=\"dataframe\">\n",
       "  <thead>\n",
       "    <tr style=\"text-align: right;\">\n",
       "      <th></th>\n",
       "      <th>Random</th>\n",
       "      <th>Date</th>\n",
       "      <th>Hour</th>\n",
       "      <th>Cloud coverage</th>\n",
       "      <th>Visibility</th>\n",
       "      <th>Temperature</th>\n",
       "      <th>Dew point</th>\n",
       "      <th>Relative humidity</th>\n",
       "      <th>Wind speed</th>\n",
       "      <th>Station pressure</th>\n",
       "      <th>Altimeter</th>\n",
       "      <th>Solar energy</th>\n",
       "      <th>(Inverter)</th>\n",
       "      <th>Unnamed: 13</th>\n",
       "    </tr>\n",
       "  </thead>\n",
       "  <tbody>\n",
       "    <tr>\n",
       "      <th>0</th>\n",
       "      <td>0.660692</td>\n",
       "      <td>2016-02-01</td>\n",
       "      <td>6</td>\n",
       "      <td>0.00</td>\n",
       "      <td>9.92</td>\n",
       "      <td>0.37</td>\n",
       "      <td>-0.01</td>\n",
       "      <td>89.12</td>\n",
       "      <td>4.72</td>\n",
       "      <td>29.19</td>\n",
       "      <td>29.98</td>\n",
       "      <td>0.00</td>\n",
       "      <td>NaN</td>\n",
       "      <td>277.0</td>\n",
       "    </tr>\n",
       "    <tr>\n",
       "      <th>1</th>\n",
       "      <td>0.417700</td>\n",
       "      <td>2016-02-01</td>\n",
       "      <td>7</td>\n",
       "      <td>0.00</td>\n",
       "      <td>10.00</td>\n",
       "      <td>0.47</td>\n",
       "      <td>-0.04</td>\n",
       "      <td>90.08</td>\n",
       "      <td>6.00</td>\n",
       "      <td>29.20</td>\n",
       "      <td>29.99</td>\n",
       "      <td>84.29</td>\n",
       "      <td>NaN</td>\n",
       "      <td>NaN</td>\n",
       "    </tr>\n",
       "    <tr>\n",
       "      <th>2</th>\n",
       "      <td>0.284691</td>\n",
       "      <td>2016-02-01</td>\n",
       "      <td>8</td>\n",
       "      <td>0.14</td>\n",
       "      <td>9.92</td>\n",
       "      <td>0.89</td>\n",
       "      <td>0.30</td>\n",
       "      <td>92.00</td>\n",
       "      <td>2.76</td>\n",
       "      <td>29.22</td>\n",
       "      <td>30.01</td>\n",
       "      <td>531.00</td>\n",
       "      <td>NaN</td>\n",
       "      <td>NaN</td>\n",
       "    </tr>\n",
       "    <tr>\n",
       "      <th>3</th>\n",
       "      <td>0.449221</td>\n",
       "      <td>2016-02-01</td>\n",
       "      <td>9</td>\n",
       "      <td>0.92</td>\n",
       "      <td>10.00</td>\n",
       "      <td>1.97</td>\n",
       "      <td>0.41</td>\n",
       "      <td>86.12</td>\n",
       "      <td>5.56</td>\n",
       "      <td>29.24</td>\n",
       "      <td>30.04</td>\n",
       "      <td>923.75</td>\n",
       "      <td>NaN</td>\n",
       "      <td>NaN</td>\n",
       "    </tr>\n",
       "    <tr>\n",
       "      <th>4</th>\n",
       "      <td>0.314341</td>\n",
       "      <td>2016-02-01</td>\n",
       "      <td>10</td>\n",
       "      <td>0.46</td>\n",
       "      <td>10.00</td>\n",
       "      <td>3.15</td>\n",
       "      <td>1.07</td>\n",
       "      <td>82.48</td>\n",
       "      <td>2.12</td>\n",
       "      <td>29.27</td>\n",
       "      <td>30.06</td>\n",
       "      <td>1947.75</td>\n",
       "      <td>NaN</td>\n",
       "      <td>NaN</td>\n",
       "    </tr>\n",
       "    <tr>\n",
       "      <th>...</th>\n",
       "      <td>...</td>\n",
       "      <td>...</td>\n",
       "      <td>...</td>\n",
       "      <td>...</td>\n",
       "      <td>...</td>\n",
       "      <td>...</td>\n",
       "      <td>...</td>\n",
       "      <td>...</td>\n",
       "      <td>...</td>\n",
       "      <td>...</td>\n",
       "      <td>...</td>\n",
       "      <td>...</td>\n",
       "      <td>...</td>\n",
       "      <td>...</td>\n",
       "    </tr>\n",
       "    <tr>\n",
       "      <th>7531</th>\n",
       "      <td>0.503809</td>\n",
       "      <td>2017-10-28</td>\n",
       "      <td>13</td>\n",
       "      <td>1.00</td>\n",
       "      <td>10.00</td>\n",
       "      <td>4.50</td>\n",
       "      <td>0.85</td>\n",
       "      <td>75.68</td>\n",
       "      <td>14.64</td>\n",
       "      <td>29.14</td>\n",
       "      <td>29.93</td>\n",
       "      <td>945.75</td>\n",
       "      <td>NaN</td>\n",
       "      <td>NaN</td>\n",
       "    </tr>\n",
       "    <tr>\n",
       "      <th>7532</th>\n",
       "      <td>0.505865</td>\n",
       "      <td>2017-10-28</td>\n",
       "      <td>14</td>\n",
       "      <td>1.00</td>\n",
       "      <td>10.00</td>\n",
       "      <td>4.72</td>\n",
       "      <td>-0.50</td>\n",
       "      <td>69.04</td>\n",
       "      <td>12.76</td>\n",
       "      <td>29.14</td>\n",
       "      <td>29.93</td>\n",
       "      <td>728.50</td>\n",
       "      <td>NaN</td>\n",
       "      <td>NaN</td>\n",
       "    </tr>\n",
       "    <tr>\n",
       "      <th>7533</th>\n",
       "      <td>0.317315</td>\n",
       "      <td>2017-10-28</td>\n",
       "      <td>15</td>\n",
       "      <td>1.00</td>\n",
       "      <td>10.00</td>\n",
       "      <td>4.18</td>\n",
       "      <td>-0.04</td>\n",
       "      <td>74.60</td>\n",
       "      <td>12.16</td>\n",
       "      <td>29.14</td>\n",
       "      <td>29.93</td>\n",
       "      <td>338.50</td>\n",
       "      <td>NaN</td>\n",
       "      <td>NaN</td>\n",
       "    </tr>\n",
       "    <tr>\n",
       "      <th>7534</th>\n",
       "      <td>0.417184</td>\n",
       "      <td>2017-10-28</td>\n",
       "      <td>16</td>\n",
       "      <td>1.00</td>\n",
       "      <td>10.00</td>\n",
       "      <td>3.77</td>\n",
       "      <td>0.00</td>\n",
       "      <td>75.64</td>\n",
       "      <td>8.28</td>\n",
       "      <td>29.16</td>\n",
       "      <td>29.95</td>\n",
       "      <td>126.78</td>\n",
       "      <td>NaN</td>\n",
       "      <td>NaN</td>\n",
       "    </tr>\n",
       "    <tr>\n",
       "      <th>7535</th>\n",
       "      <td>0.141815</td>\n",
       "      <td>2017-10-28</td>\n",
       "      <td>17</td>\n",
       "      <td>1.00</td>\n",
       "      <td>10.00</td>\n",
       "      <td>3.59</td>\n",
       "      <td>-0.79</td>\n",
       "      <td>73.72</td>\n",
       "      <td>8.40</td>\n",
       "      <td>29.18</td>\n",
       "      <td>29.97</td>\n",
       "      <td>20.49</td>\n",
       "      <td>NaN</td>\n",
       "      <td>NaN</td>\n",
       "    </tr>\n",
       "  </tbody>\n",
       "</table>\n",
       "<p>7536 rows × 14 columns</p>\n",
       "</div>"
      ],
      "text/plain": [
       "        Random       Date  Hour  Cloud coverage  Visibility  Temperature  \\\n",
       "0     0.660692 2016-02-01     6            0.00        9.92         0.37   \n",
       "1     0.417700 2016-02-01     7            0.00       10.00         0.47   \n",
       "2     0.284691 2016-02-01     8            0.14        9.92         0.89   \n",
       "3     0.449221 2016-02-01     9            0.92       10.00         1.97   \n",
       "4     0.314341 2016-02-01    10            0.46       10.00         3.15   \n",
       "...        ...        ...   ...             ...         ...          ...   \n",
       "7531  0.503809 2017-10-28    13            1.00       10.00         4.50   \n",
       "7532  0.505865 2017-10-28    14            1.00       10.00         4.72   \n",
       "7533  0.317315 2017-10-28    15            1.00       10.00         4.18   \n",
       "7534  0.417184 2017-10-28    16            1.00       10.00         3.77   \n",
       "7535  0.141815 2017-10-28    17            1.00       10.00         3.59   \n",
       "\n",
       "      Dew point  Relative humidity  Wind speed  Station pressure  Altimeter  \\\n",
       "0         -0.01              89.12        4.72             29.19      29.98   \n",
       "1         -0.04              90.08        6.00             29.20      29.99   \n",
       "2          0.30              92.00        2.76             29.22      30.01   \n",
       "3          0.41              86.12        5.56             29.24      30.04   \n",
       "4          1.07              82.48        2.12             29.27      30.06   \n",
       "...         ...                ...         ...               ...        ...   \n",
       "7531       0.85              75.68       14.64             29.14      29.93   \n",
       "7532      -0.50              69.04       12.76             29.14      29.93   \n",
       "7533      -0.04              74.60       12.16             29.14      29.93   \n",
       "7534       0.00              75.64        8.28             29.16      29.95   \n",
       "7535      -0.79              73.72        8.40             29.18      29.97   \n",
       "\n",
       "      Solar energy  (Inverter)  Unnamed: 13  \n",
       "0             0.00         NaN        277.0  \n",
       "1            84.29         NaN          NaN  \n",
       "2           531.00         NaN          NaN  \n",
       "3           923.75         NaN          NaN  \n",
       "4          1947.75         NaN          NaN  \n",
       "...            ...         ...          ...  \n",
       "7531        945.75         NaN          NaN  \n",
       "7532        728.50         NaN          NaN  \n",
       "7533        338.50         NaN          NaN  \n",
       "7534        126.78         NaN          NaN  \n",
       "7535         20.49         NaN          NaN  \n",
       "\n",
       "[7536 rows x 14 columns]"
      ]
     },
     "execution_count": 12,
     "metadata": {},
     "output_type": "execute_result"
    }
   ],
   "source": [
    "df"
   ]
  },
  {
   "cell_type": "code",
   "execution_count": null,
   "id": "ca35b79a",
   "metadata": {},
   "outputs": [],
   "source": []
  },
  {
   "cell_type": "code",
   "execution_count": 13,
   "id": "40a27428",
   "metadata": {
    "id": "375bdaa8"
   },
   "outputs": [],
   "source": [
    "se=df.reset_index()['Solar energy']"
   ]
  },
  {
   "cell_type": "code",
   "execution_count": 14,
   "id": "c4025a37",
   "metadata": {
    "colab": {
     "base_uri": "https://localhost:8080/"
    },
    "id": "b4a2173e",
    "outputId": "adf79671-b22c-4c1b-b2d7-071500f366cf"
   },
   "outputs": [
    {
     "data": {
      "text/plain": [
       "0          0.00\n",
       "1         84.29\n",
       "2        531.00\n",
       "3        923.75\n",
       "4       1947.75\n",
       "         ...   \n",
       "7531     945.75\n",
       "7532     728.50\n",
       "7533     338.50\n",
       "7534     126.78\n",
       "7535      20.49\n",
       "Name: Solar energy, Length: 7536, dtype: float64"
      ]
     },
     "execution_count": 14,
     "metadata": {},
     "output_type": "execute_result"
    }
   ],
   "source": [
    "se"
   ]
  },
  {
   "cell_type": "code",
   "execution_count": 15,
   "id": "2385260f",
   "metadata": {},
   "outputs": [],
   "source": [
    "import matplotlib.pyplot as plt"
   ]
  },
  {
   "cell_type": "code",
   "execution_count": 16,
   "id": "54503203",
   "metadata": {},
   "outputs": [
    {
     "data": {
      "image/png": "[encoded data removed]",
      "text/plain": [
       "<Figure size 432x288 with 1 Axes>"
      ]
     },
     "metadata": {
      "needs_background": "light"
     },
     "output_type": "display_data"
    }
   ],
   "source": [
    "se.plot()\n",
    "plt.show()"
   ]
  },
  {
   "cell_type": "code",
   "execution_count": 10,
   "id": "1bf16ac6",
   "metadata": {
    "colab": {
     "base_uri": "https://localhost:8080/"
    },
    "id": "7d98130f",
    "outputId": "2eef98d1-40ff-43fb-b344-218c8aad155c"
   },
   "outputs": [
    {
     "data": {
      "text/plain": [
       "0.00       277\n",
       "675.50       5\n",
       "4711.00      5\n",
       "922.75       4\n",
       "500.75       4\n",
       "          ... \n",
       "1433.25      1\n",
       "573.00       1\n",
       "4181.75      1\n",
       "3323.75      1\n",
       "29.00        1\n",
       "Name: Solar energy, Length: 6231, dtype: int64"
      ]
     },
     "execution_count": 10,
     "metadata": {
      "tags": []
     },
     "output_type": "execute_result"
    }
   ],
   "source": [
    "se.value_counts()"
   ]
  },
  {
   "cell_type": "code",
   "execution_count": 11,
   "id": "10429488",
   "metadata": {
    "colab": {
     "base_uri": "https://localhost:8080/",
     "height": 282
    },
    "id": "b3063197",
    "outputId": "86f2970a-5b05-4fd4-f9a2-3f090650a4d8"
   },
   "outputs": [
    {
     "data": {
      "text/plain": [
       "[<matplotlib.lines.Line2D at 0x7ff0bbbbc290>]"
      ]
     },
     "execution_count": 11,
     "metadata": {
      "tags": []
     },
     "output_type": "execute_result"
    },
    {
     "data": {
      "image/png": "[encoded data removed]",
      "text/plain": [
       "<Figure size 432x288 with 1 Axes>"
      ]
     },
     "metadata": {
      "needs_background": "light",
      "tags": []
     },
     "output_type": "display_data"
    }
   ],
   "source": [
    "plt.plot(se)"
   ]
  },
  {
   "cell_type": "code",
   "execution_count": 12,
   "id": "470b1898",
   "metadata": {
    "id": "9f0c8aed"
   },
   "outputs": [],
   "source": [
    "from sklearn.preprocessing import MinMaxScaler\n",
    "scaler=MinMaxScaler(feature_range=(0,1))"
   ]
  },
  {
   "cell_type": "code",
   "execution_count": 13,
   "id": "5eb3cd6b",
   "metadata": {
    "id": "6ca4c053"
   },
   "outputs": [],
   "source": [
    "se=scaler.fit_transform(np.array(se).reshape(-1,1))"
   ]
  },
  {
   "cell_type": "code",
   "execution_count": 14,
   "id": "c0650448",
   "metadata": {
    "colab": {
     "base_uri": "https://localhost:8080/"
    },
    "id": "da241cff",
    "outputId": "454568e9-80b8-469f-aa57-30f14589e5c3"
   },
   "outputs": [
    {
     "data": {
      "text/plain": [
       "array([[0.        ],\n",
       "       [0.01780806],\n",
       "       [0.11218507],\n",
       "       ...,\n",
       "       [0.07151534],\n",
       "       [0.02678498],\n",
       "       [0.00432895]])"
      ]
     },
     "execution_count": 14,
     "metadata": {
      "tags": []
     },
     "output_type": "execute_result"
    }
   ],
   "source": [
    "se"
   ]
  },
  {
   "cell_type": "code",
   "execution_count": 15,
   "id": "6b2ce0f3",
   "metadata": {
    "colab": {
     "base_uri": "https://localhost:8080/"
    },
    "id": "589f51a2",
    "outputId": "85aad34b-4afc-4a13-87a1-a6a70ba976db"
   },
   "outputs": [
    {
     "data": {
      "text/plain": [
       "(7536, 1)"
      ]
     },
     "execution_count": 15,
     "metadata": {
      "tags": []
     },
     "output_type": "execute_result"
    }
   ],
   "source": [
    "se.shape"
   ]
  },
  {
   "cell_type": "code",
   "execution_count": 16,
   "id": "25d88049",
   "metadata": {
    "id": "6ac7668a"
   },
   "outputs": [],
   "source": [
    "trs=int(len(se)*0.75)\n",
    "ts=len(se)-trs"
   ]
  },
  {
   "cell_type": "code",
   "execution_count": 17,
   "id": "32786fde",
   "metadata": {
    "colab": {
     "base_uri": "https://localhost:8080/"
    },
    "id": "19bb73c2",
    "outputId": "381c3ccd-11c4-430d-d87d-05d39e64e4e9"
   },
   "outputs": [
    {
     "data": {
      "text/plain": [
       "(5652, 1884)"
      ]
     },
     "execution_count": 17,
     "metadata": {
      "tags": []
     },
     "output_type": "execute_result"
    }
   ],
   "source": [
    "trs,ts"
   ]
  },
  {
   "cell_type": "code",
   "execution_count": 18,
   "id": "b84f7004",
   "metadata": {
    "id": "2ed051fe"
   },
   "outputs": [],
   "source": [
    "train=se[0:trs]\n",
    "test=se[trs:]"
   ]
  },
  {
   "cell_type": "code",
   "execution_count": 19,
   "id": "e3ee5005",
   "metadata": {
    "colab": {
     "base_uri": "https://localhost:8080/"
    },
    "id": "ca92d747",
    "outputId": "53de88cd-c070-4efc-fdee-7d8fd19fe830"
   },
   "outputs": [
    {
     "data": {
      "text/plain": [
       "(5652, 1)"
      ]
     },
     "execution_count": 19,
     "metadata": {
      "tags": []
     },
     "output_type": "execute_result"
    }
   ],
   "source": [
    "train.shape"
   ]
  },
  {
   "cell_type": "code",
   "execution_count": 20,
   "id": "030fe023",
   "metadata": {
    "colab": {
     "base_uri": "https://localhost:8080/"
    },
    "id": "164bd114",
    "outputId": "d8f33cd7-8e85-4baf-b4b2-c5c632e13907"
   },
   "outputs": [
    {
     "data": {
      "text/plain": [
       "(1884, 1)"
      ]
     },
     "execution_count": 20,
     "metadata": {
      "tags": []
     },
     "output_type": "execute_result"
    }
   ],
   "source": [
    "test.shape"
   ]
  },
  {
   "cell_type": "code",
   "execution_count": 21,
   "id": "8d6de82a",
   "metadata": {
    "id": "ff61a91c"
   },
   "outputs": [],
   "source": [
    "import numpy\n",
    "\n",
    "def create_dataset(dataset, time_step=1):\n",
    "\tdataX, dataY = [], []\n",
    "\tfor i in range(len(dataset)-time_step-1):\n",
    "\t\ta = dataset[i:(i+time_step), 0]  \n",
    "\t\tdataX.append(a)\n",
    "\t\tdataY.append(dataset[i + time_step, 0])\n",
    "\treturn numpy.array(dataX), numpy.array(dataY)"
   ]
  },
  {
   "cell_type": "code",
   "execution_count": 22,
   "id": "505ed8cc",
   "metadata": {
    "id": "68c471d5"
   },
   "outputs": [],
   "source": [
    "X_train,Y_train=create_dataset(train,9)"
   ]
  },
  {
   "cell_type": "code",
   "execution_count": 23,
   "id": "d2b67725",
   "metadata": {
    "colab": {
     "base_uri": "https://localhost:8080/"
    },
    "id": "8f03af78",
    "outputId": "a3e23cf1-ed5b-42a6-c259-d4d0fc411124"
   },
   "outputs": [
    {
     "data": {
      "text/plain": [
       "array([0.        , 0.01780806, 0.11218507, 0.19516189, 0.41150372,\n",
       "       0.75254846, 0.89505097, 0.8267047 , 0.67379707])"
      ]
     },
     "execution_count": 23,
     "metadata": {
      "tags": []
     },
     "output_type": "execute_result"
    }
   ],
   "source": [
    "X_train[0]"
   ]
  },
  {
   "cell_type": "code",
   "execution_count": 24,
   "id": "4a01c130",
   "metadata": {
    "colab": {
     "base_uri": "https://localhost:8080/"
    },
    "id": "c1028016",
    "outputId": "57069ce6-46bb-4202-96d1-492b0402707a"
   },
   "outputs": [
    {
     "data": {
      "text/plain": [
       "0.3565731791052659"
      ]
     },
     "execution_count": 24,
     "metadata": {
      "tags": []
     },
     "output_type": "execute_result"
    }
   ],
   "source": [
    "Y_train[0]"
   ]
  },
  {
   "cell_type": "code",
   "execution_count": 25,
   "id": "9260bb7e",
   "metadata": {
    "id": "8409662c"
   },
   "outputs": [],
   "source": [
    "X_test,Y_test=create_dataset(test,9)"
   ]
  },
  {
   "cell_type": "code",
   "execution_count": 26,
   "id": "290e6d78",
   "metadata": {
    "colab": {
     "base_uri": "https://localhost:8080/"
    },
    "id": "bc6b2132",
    "outputId": "cc0596e5-cc29-4571-b4c4-9e07d4014b9e"
   },
   "outputs": [
    {
     "data": {
      "text/plain": [
       "(1874, 9)"
      ]
     },
     "execution_count": 26,
     "metadata": {
      "tags": []
     },
     "output_type": "execute_result"
    }
   ],
   "source": [
    "X_test.shape"
   ]
  },
  {
   "cell_type": "code",
   "execution_count": 27,
   "id": "751542b2",
   "metadata": {
    "colab": {
     "base_uri": "https://localhost:8080/"
    },
    "id": "b4a33c8f",
    "outputId": "94f7cfce-e1c8-46a3-99b8-4a31ae9d2004"
   },
   "outputs": [
    {
     "data": {
      "text/plain": [
       "(5642, 9)"
      ]
     },
     "execution_count": 27,
     "metadata": {
      "tags": []
     },
     "output_type": "execute_result"
    }
   ],
   "source": [
    "X_train.shape"
   ]
  },
  {
   "cell_type": "code",
   "execution_count": 28,
   "id": "0b291115",
   "metadata": {
    "colab": {
     "base_uri": "https://localhost:8080/"
    },
    "id": "5bf77284",
    "outputId": "c1ca8f9e-d412-41e6-d3e0-247893b290ed"
   },
   "outputs": [
    {
     "data": {
      "text/plain": [
       "(1874,)"
      ]
     },
     "execution_count": 28,
     "metadata": {
      "tags": []
     },
     "output_type": "execute_result"
    }
   ],
   "source": [
    "Y_test.shape"
   ]
  },
  {
   "cell_type": "code",
   "execution_count": 29,
   "id": "a05e6d94",
   "metadata": {
    "colab": {
     "base_uri": "https://localhost:8080/"
    },
    "id": "d075b22d",
    "outputId": "c1344bf4-fcc5-455b-c687-65b99df97960"
   },
   "outputs": [
    {
     "data": {
      "text/plain": [
       "(5642,)"
      ]
     },
     "execution_count": 29,
     "metadata": {
      "tags": []
     },
     "output_type": "execute_result"
    }
   ],
   "source": [
    "Y_train.shape"
   ]
  },
  {
   "cell_type": "markdown",
   "id": "ccba4438",
   "metadata": {
    "id": "5ba1cba3"
   },
   "source": [
    "# Adding extra column which is required for LSTM"
   ]
  },
  {
   "cell_type": "code",
   "execution_count": 30,
   "id": "53d1bfd2",
   "metadata": {
    "id": "b3152753"
   },
   "outputs": [],
   "source": [
    "X_train =X_train.reshape(X_train.shape[0],X_train.shape[1] , 1)\n",
    "X_test = X_test.reshape(X_test.shape[0],X_test.shape[1] , 1)"
   ]
  },
  {
   "cell_type": "code",
   "execution_count": 31,
   "id": "def10216",
   "metadata": {
    "colab": {
     "base_uri": "https://localhost:8080/"
    },
    "id": "2d0d5a60",
    "outputId": "a4d4ae9b-e4aa-4763-bb4a-0f5ba3d267df"
   },
   "outputs": [
    {
     "data": {
      "text/plain": [
       "(5642, 9, 1)"
      ]
     },
     "execution_count": 31,
     "metadata": {
      "tags": []
     },
     "output_type": "execute_result"
    }
   ],
   "source": [
    "X_train.shape"
   ]
  },
  {
   "cell_type": "code",
   "execution_count": 32,
   "id": "76d9146c",
   "metadata": {
    "colab": {
     "base_uri": "https://localhost:8080/"
    },
    "id": "2fad5323",
    "outputId": "af3b1498-b49b-4ffb-c04a-aa58fc8741f4"
   },
   "outputs": [
    {
     "data": {
      "text/plain": [
       "(1874, 9, 1)"
      ]
     },
     "execution_count": 32,
     "metadata": {
      "tags": []
     },
     "output_type": "execute_result"
    }
   ],
   "source": [
    "X_test.shape"
   ]
  },
  {
   "cell_type": "markdown",
   "id": "ab72ca37",
   "metadata": {
    "id": "889de15f"
   },
   "source": [
    "# Model Definition"
   ]
  },
  {
   "cell_type": "code",
   "execution_count": 33,
   "id": "933f9018",
   "metadata": {
    "id": "0d419ab3"
   },
   "outputs": [],
   "source": [
    "from tensorflow.keras.layers import Dense,LSTM\n",
    "from tensorflow.keras.models import Sequential"
   ]
  },
  {
   "cell_type": "code",
   "execution_count": 34,
   "id": "78452aae",
   "metadata": {
    "id": "c53cb90f"
   },
   "outputs": [],
   "source": [
    "\n",
    "model=Sequential()\n",
    "model.add(LSTM(50,return_sequences=True,input_shape=(9,1)))\n",
    "model.add(LSTM(50,return_sequences=True))\n",
    "model.add(LSTM(50))\n",
    "model.add(Dense(1))\n",
    "model.compile(loss='mean_squared_error',optimizer='adam')"
   ]
  },
  {
   "cell_type": "code",
   "execution_count": 35,
   "id": "bd08f8a9",
   "metadata": {
    "colab": {
     "base_uri": "https://localhost:8080/"
    },
    "id": "6b07b078",
    "outputId": "917190c8-72d6-4cba-c6c3-ad15a738649f"
   },
   "outputs": [
    {
     "name": "stdout",
     "output_type": "stream",
     "text": [
      "Model: \"sequential\"\n",
      "_________________________________________________________________\n",
      "Layer (type)                 Output Shape              Param #   \n",
      "=================================================================\n",
      "lstm (LSTM)                  (None, 9, 50)             10400     \n",
      "_________________________________________________________________\n",
      "lstm_1 (LSTM)                (None, 9, 50)             20200     \n",
      "_________________________________________________________________\n",
      "lstm_2 (LSTM)                (None, 50)                20200     \n",
      "_________________________________________________________________\n",
      "dense (Dense)                (None, 1)                 51        \n",
      "=================================================================\n",
      "Total params: 50,851\n",
      "Trainable params: 50,851\n",
      "Non-trainable params: 0\n",
      "_________________________________________________________________\n"
     ]
    }
   ],
   "source": [
    "model.summary()"
   ]
  },
  {
   "cell_type": "code",
   "execution_count": 36,
   "id": "ae93c2e8",
   "metadata": {
    "colab": {
     "base_uri": "https://localhost:8080/"
    },
    "id": "0cd519a2",
    "outputId": "c022b191-e434-4636-9e49-d9ef743dbe2a"
   },
   "outputs": [
    {
     "name": "stdout",
     "output_type": "stream",
     "text": [
      "Epoch 1/100\n",
      "177/177 [==============================] - 37s 15ms/step - loss: 0.1139 - val_loss: 0.0384\n",
      "Epoch 2/100\n",
      "177/177 [==============================] - 1s 8ms/step - loss: 0.0265 - val_loss: 0.0187\n",
      "Epoch 3/100\n",
      "177/177 [==============================] - 2s 8ms/step - loss: 0.0169 - val_loss: 0.0151\n",
      "Epoch 4/100\n",
      "177/177 [==============================] - 1s 8ms/step - loss: 0.0164 - val_loss: 0.0171\n",
      "Epoch 5/100\n",
      "177/177 [==============================] - 2s 9ms/step - loss: 0.0170 - val_loss: 0.0137\n",
      "Epoch 6/100\n",
      "177/177 [==============================] - 1s 8ms/step - loss: 0.0154 - val_loss: 0.0143\n",
      "Epoch 7/100\n",
      "177/177 [==============================] - 1s 8ms/step - loss: 0.0155 - val_loss: 0.0161\n",
      "Epoch 8/100\n",
      "177/177 [==============================] - 1s 8ms/step - loss: 0.0153 - val_loss: 0.0139\n",
      "Epoch 9/100\n",
      "177/177 [==============================] - 2s 8ms/step - loss: 0.0149 - val_loss: 0.0133\n",
      "Epoch 10/100\n",
      "177/177 [==============================] - 1s 8ms/step - loss: 0.0149 - val_loss: 0.0124\n",
      "Epoch 11/100\n",
      "177/177 [==============================] - 1s 8ms/step - loss: 0.0129 - val_loss: 0.0123\n",
      "Epoch 12/100\n",
      "177/177 [==============================] - 1s 8ms/step - loss: 0.0145 - val_loss: 0.0124\n",
      "Epoch 13/100\n",
      "177/177 [==============================] - 1s 8ms/step - loss: 0.0141 - val_loss: 0.0120\n",
      "Epoch 14/100\n",
      "177/177 [==============================] - 1s 8ms/step - loss: 0.0135 - val_loss: 0.0125\n",
      "Epoch 15/100\n",
      "177/177 [==============================] - 1s 8ms/step - loss: 0.0136 - val_loss: 0.0116\n",
      "Epoch 16/100\n",
      "177/177 [==============================] - 1s 8ms/step - loss: 0.0131 - val_loss: 0.0115\n",
      "Epoch 17/100\n",
      "177/177 [==============================] - 1s 8ms/step - loss: 0.0135 - val_loss: 0.0114\n",
      "Epoch 18/100\n",
      "177/177 [==============================] - 1s 8ms/step - loss: 0.0131 - val_loss: 0.0112\n",
      "Epoch 19/100\n",
      "177/177 [==============================] - 1s 8ms/step - loss: 0.0123 - val_loss: 0.0115\n",
      "Epoch 20/100\n",
      "177/177 [==============================] - 1s 8ms/step - loss: 0.0126 - val_loss: 0.0111\n",
      "Epoch 21/100\n",
      "177/177 [==============================] - 2s 9ms/step - loss: 0.0131 - val_loss: 0.0113\n",
      "Epoch 22/100\n",
      "177/177 [==============================] - 2s 9ms/step - loss: 0.0122 - val_loss: 0.0124\n",
      "Epoch 23/100\n",
      "177/177 [==============================] - 2s 9ms/step - loss: 0.0125 - val_loss: 0.0111\n",
      "Epoch 24/100\n",
      "177/177 [==============================] - 1s 8ms/step - loss: 0.0124 - val_loss: 0.0111\n",
      "Epoch 25/100\n",
      "177/177 [==============================] - 1s 8ms/step - loss: 0.0125 - val_loss: 0.0109\n",
      "Epoch 26/100\n",
      "177/177 [==============================] - 2s 9ms/step - loss: 0.0127 - val_loss: 0.0109\n",
      "Epoch 27/100\n",
      "177/177 [==============================] - 1s 8ms/step - loss: 0.0124 - val_loss: 0.0111\n",
      "Epoch 28/100\n",
      "177/177 [==============================] - 2s 9ms/step - loss: 0.0119 - val_loss: 0.0104\n",
      "Epoch 29/100\n",
      "177/177 [==============================] - 1s 8ms/step - loss: 0.0124 - val_loss: 0.0115\n",
      "Epoch 30/100\n",
      "177/177 [==============================] - 1s 8ms/step - loss: 0.0119 - val_loss: 0.0105\n",
      "Epoch 31/100\n",
      "177/177 [==============================] - 1s 8ms/step - loss: 0.0124 - val_loss: 0.0108\n",
      "Epoch 32/100\n",
      "177/177 [==============================] - 2s 9ms/step - loss: 0.0118 - val_loss: 0.0103\n",
      "Epoch 33/100\n",
      "177/177 [==============================] - 1s 8ms/step - loss: 0.0119 - val_loss: 0.0106\n",
      "Epoch 34/100\n",
      "177/177 [==============================] - 1s 8ms/step - loss: 0.0119 - val_loss: 0.0105\n",
      "Epoch 35/100\n",
      "177/177 [==============================] - 1s 8ms/step - loss: 0.0113 - val_loss: 0.0106\n",
      "Epoch 36/100\n",
      "177/177 [==============================] - 2s 9ms/step - loss: 0.0121 - val_loss: 0.0104\n",
      "Epoch 37/100\n",
      "177/177 [==============================] - 2s 8ms/step - loss: 0.0118 - val_loss: 0.0111\n",
      "Epoch 38/100\n",
      "177/177 [==============================] - 1s 8ms/step - loss: 0.0124 - val_loss: 0.0105\n",
      "Epoch 39/100\n",
      "177/177 [==============================] - 1s 8ms/step - loss: 0.0118 - val_loss: 0.0106\n",
      "Epoch 40/100\n",
      "177/177 [==============================] - 1s 8ms/step - loss: 0.0112 - val_loss: 0.0105\n",
      "Epoch 41/100\n",
      "177/177 [==============================] - 1s 8ms/step - loss: 0.0112 - val_loss: 0.0110\n",
      "Epoch 42/100\n",
      "177/177 [==============================] - 1s 8ms/step - loss: 0.0117 - val_loss: 0.0112\n",
      "Epoch 43/100\n",
      "177/177 [==============================] - 1s 8ms/step - loss: 0.0119 - val_loss: 0.0107\n",
      "Epoch 44/100\n",
      "177/177 [==============================] - 1s 8ms/step - loss: 0.0115 - val_loss: 0.0103\n",
      "Epoch 45/100\n",
      "177/177 [==============================] - 1s 8ms/step - loss: 0.0119 - val_loss: 0.0109\n",
      "Epoch 46/100\n",
      "177/177 [==============================] - 1s 8ms/step - loss: 0.0114 - val_loss: 0.0100\n",
      "Epoch 47/100\n",
      "177/177 [==============================] - 1s 8ms/step - loss: 0.0115 - val_loss: 0.0107\n",
      "Epoch 48/100\n",
      "177/177 [==============================] - 1s 8ms/step - loss: 0.0115 - val_loss: 0.0103\n",
      "Epoch 49/100\n",
      "177/177 [==============================] - 2s 9ms/step - loss: 0.0114 - val_loss: 0.0106\n",
      "Epoch 50/100\n",
      "177/177 [==============================] - 1s 8ms/step - loss: 0.0119 - val_loss: 0.0102\n",
      "Epoch 51/100\n",
      "177/177 [==============================] - 1s 8ms/step - loss: 0.0110 - val_loss: 0.0106\n",
      "Epoch 52/100\n",
      "177/177 [==============================] - 2s 9ms/step - loss: 0.0118 - val_loss: 0.0116\n",
      "Epoch 53/100\n",
      "177/177 [==============================] - 2s 9ms/step - loss: 0.0114 - val_loss: 0.0101\n",
      "Epoch 54/100\n",
      "177/177 [==============================] - 2s 9ms/step - loss: 0.0113 - val_loss: 0.0102\n",
      "Epoch 55/100\n",
      "177/177 [==============================] - 2s 8ms/step - loss: 0.0112 - val_loss: 0.0100\n",
      "Epoch 56/100\n",
      "177/177 [==============================] - 1s 8ms/step - loss: 0.0114 - val_loss: 0.0102\n",
      "Epoch 57/100\n",
      "177/177 [==============================] - 1s 8ms/step - loss: 0.0118 - val_loss: 0.0101\n",
      "Epoch 58/100\n",
      "177/177 [==============================] - 1s 8ms/step - loss: 0.0118 - val_loss: 0.0097\n",
      "Epoch 59/100\n",
      "177/177 [==============================] - 1s 8ms/step - loss: 0.0110 - val_loss: 0.0099\n",
      "Epoch 60/100\n",
      "177/177 [==============================] - 1s 8ms/step - loss: 0.0111 - val_loss: 0.0100\n",
      "Epoch 61/100\n",
      "177/177 [==============================] - 1s 8ms/step - loss: 0.0108 - val_loss: 0.0099\n",
      "Epoch 62/100\n",
      "177/177 [==============================] - 2s 9ms/step - loss: 0.0106 - val_loss: 0.0100\n",
      "Epoch 63/100\n",
      "177/177 [==============================] - 1s 8ms/step - loss: 0.0110 - val_loss: 0.0099\n",
      "Epoch 64/100\n",
      "177/177 [==============================] - 2s 8ms/step - loss: 0.0109 - val_loss: 0.0100\n",
      "Epoch 65/100\n",
      "177/177 [==============================] - 2s 9ms/step - loss: 0.0109 - val_loss: 0.0099\n",
      "Epoch 66/100\n",
      "177/177 [==============================] - 2s 9ms/step - loss: 0.0112 - val_loss: 0.0103\n",
      "Epoch 67/100\n",
      "177/177 [==============================] - 2s 9ms/step - loss: 0.0115 - val_loss: 0.0098\n",
      "Epoch 68/100\n",
      "177/177 [==============================] - 2s 9ms/step - loss: 0.0109 - val_loss: 0.0097\n",
      "Epoch 69/100\n",
      "177/177 [==============================] - 1s 8ms/step - loss: 0.0105 - val_loss: 0.0102\n",
      "Epoch 70/100\n",
      "177/177 [==============================] - 2s 9ms/step - loss: 0.0104 - val_loss: 0.0097\n",
      "Epoch 71/100\n",
      "177/177 [==============================] - 1s 8ms/step - loss: 0.0108 - val_loss: 0.0098\n",
      "Epoch 72/100\n",
      "177/177 [==============================] - 2s 9ms/step - loss: 0.0111 - val_loss: 0.0100\n",
      "Epoch 73/100\n",
      "177/177 [==============================] - 1s 8ms/step - loss: 0.0105 - val_loss: 0.0098\n",
      "Epoch 74/100\n",
      "177/177 [==============================] - 2s 9ms/step - loss: 0.0108 - val_loss: 0.0097\n",
      "Epoch 75/100\n",
      "177/177 [==============================] - 1s 8ms/step - loss: 0.0103 - val_loss: 0.0098\n",
      "Epoch 76/100\n",
      "177/177 [==============================] - 2s 9ms/step - loss: 0.0103 - val_loss: 0.0098\n",
      "Epoch 77/100\n",
      "177/177 [==============================] - 1s 8ms/step - loss: 0.0102 - val_loss: 0.0099\n",
      "Epoch 78/100\n",
      "177/177 [==============================] - 1s 8ms/step - loss: 0.0106 - val_loss: 0.0101\n",
      "Epoch 79/100\n",
      "177/177 [==============================] - 2s 9ms/step - loss: 0.0110 - val_loss: 0.0097\n",
      "Epoch 80/100\n",
      "177/177 [==============================] - 2s 9ms/step - loss: 0.0105 - val_loss: 0.0098\n",
      "Epoch 81/100\n",
      "177/177 [==============================] - 2s 9ms/step - loss: 0.0105 - val_loss: 0.0099\n",
      "Epoch 82/100\n",
      "177/177 [==============================] - 2s 9ms/step - loss: 0.0105 - val_loss: 0.0097\n",
      "Epoch 83/100\n",
      "177/177 [==============================] - 1s 8ms/step - loss: 0.0100 - val_loss: 0.0095\n",
      "Epoch 84/100\n",
      "177/177 [==============================] - 1s 8ms/step - loss: 0.0106 - val_loss: 0.0096\n",
      "Epoch 85/100\n",
      "177/177 [==============================] - 1s 8ms/step - loss: 0.0113 - val_loss: 0.0099\n",
      "Epoch 86/100\n",
      "177/177 [==============================] - 1s 8ms/step - loss: 0.0098 - val_loss: 0.0105\n",
      "Epoch 87/100\n",
      "177/177 [==============================] - 1s 8ms/step - loss: 0.0105 - val_loss: 0.0098\n",
      "Epoch 88/100\n",
      "177/177 [==============================] - 1s 8ms/step - loss: 0.0101 - val_loss: 0.0101\n",
      "Epoch 89/100\n",
      "177/177 [==============================] - 2s 8ms/step - loss: 0.0101 - val_loss: 0.0100\n",
      "Epoch 90/100\n",
      "177/177 [==============================] - 2s 9ms/step - loss: 0.0105 - val_loss: 0.0095\n",
      "Epoch 91/100\n",
      "177/177 [==============================] - 2s 9ms/step - loss: 0.0104 - val_loss: 0.0097\n",
      "Epoch 92/100\n",
      "177/177 [==============================] - 2s 9ms/step - loss: 0.0107 - val_loss: 0.0100\n",
      "Epoch 93/100\n",
      "177/177 [==============================] - 1s 8ms/step - loss: 0.0106 - val_loss: 0.0103\n",
      "Epoch 94/100\n",
      "177/177 [==============================] - 1s 8ms/step - loss: 0.0105 - val_loss: 0.0096\n",
      "Epoch 95/100\n",
      "177/177 [==============================] - 2s 9ms/step - loss: 0.0098 - val_loss: 0.0098\n",
      "Epoch 96/100\n",
      "177/177 [==============================] - 1s 8ms/step - loss: 0.0100 - val_loss: 0.0095\n",
      "Epoch 97/100\n",
      "177/177 [==============================] - 1s 8ms/step - loss: 0.0100 - val_loss: 0.0097\n",
      "Epoch 98/100\n",
      "177/177 [==============================] - 1s 8ms/step - loss: 0.0096 - val_loss: 0.0099\n",
      "Epoch 99/100\n",
      "177/177 [==============================] - 1s 8ms/step - loss: 0.0092 - val_loss: 0.0100\n",
      "Epoch 100/100\n",
      "177/177 [==============================] - 1s 8ms/step - loss: 0.0093 - val_loss: 0.0106\n"
     ]
    },
    {
     "data": {
      "text/plain": [
       "<tensorflow.python.keras.callbacks.History at 0x7ff0b00c1f50>"
      ]
     },
     "execution_count": 36,
     "metadata": {
      "tags": []
     },
     "output_type": "execute_result"
    }
   ],
   "source": [
    "\n",
    "model.fit(X_train,Y_train,validation_data=(X_test,Y_test),epochs=100,batch_size=32,verbose=1)"
   ]
  },
  {
   "cell_type": "code",
   "execution_count": 37,
   "id": "6321989a",
   "metadata": {
    "id": "e1314b72"
   },
   "outputs": [],
   "source": [
    "train_predict=model.predict(X_train)\n",
    "test_predict=model.predict(X_test)"
   ]
  },
  {
   "cell_type": "code",
   "execution_count": 38,
   "id": "e3144e0f",
   "metadata": {
    "id": "7e4ce065"
   },
   "outputs": [],
   "source": [
    "train_predict=scaler.inverse_transform(train_predict)\n",
    "test_predict=scaler.inverse_transform(test_predict)"
   ]
  },
  {
   "cell_type": "code",
   "execution_count": 39,
   "id": "7d159aa6",
   "metadata": {
    "colab": {
     "base_uri": "https://localhost:8080/"
    },
    "id": "fb63f7fb",
    "outputId": "a3fd7000-2c82-4f2c-8a27-b812122777dc"
   },
   "outputs": [
    {
     "data": {
      "text/plain": [
       "2152.3294143767835"
      ]
     },
     "execution_count": 39,
     "metadata": {
      "tags": []
     },
     "output_type": "execute_result"
    }
   ],
   "source": [
    "import math\n",
    "from sklearn.metrics import mean_squared_error\n",
    "math.sqrt(mean_squared_error(Y_train,train_predict))"
   ]
  },
  {
   "cell_type": "code",
   "execution_count": 40,
   "id": "322ca345",
   "metadata": {
    "colab": {
     "base_uri": "https://localhost:8080/"
    },
    "id": "d01d6229",
    "outputId": "deca8284-2291-49a9-9a5e-962dd7fe92b8"
   },
   "outputs": [
    {
     "data": {
      "text/plain": [
       "2324.7553712577683"
      ]
     },
     "execution_count": 40,
     "metadata": {
      "tags": []
     },
     "output_type": "execute_result"
    }
   ],
   "source": [
    "math.sqrt(mean_squared_error(Y_test,test_predict))"
   ]
  },
  {
   "cell_type": "code",
   "execution_count": 40,
   "id": "3caf5a6d",
   "metadata": {
    "id": "f1bf396e"
   },
   "outputs": [],
   "source": []
  },
  {
   "cell_type": "code",
   "execution_count": 40,
   "id": "132ea1ad",
   "metadata": {
    "id": "02809ef1"
   },
   "outputs": [],
   "source": []
  },
  {
   "cell_type": "code",
   "execution_count": 40,
   "id": "e1cea2ab",
   "metadata": {
    "id": "8ea91122"
   },
   "outputs": [],
   "source": []
  },
  {
   "cell_type": "code",
   "execution_count": 40,
   "id": "45225ac3",
   "metadata": {
    "id": "666c4fd1"
   },
   "outputs": [],
   "source": []
  },
  {
   "cell_type": "code",
   "execution_count": 41,
   "id": "efed2b69",
   "metadata": {
    "id": "8ff1e28f"
   },
   "outputs": [],
   "source": [
    "inp=test[-9:].reshape(1,-1)"
   ]
  },
  {
   "cell_type": "code",
   "execution_count": 42,
   "id": "f583dc46",
   "metadata": {
    "colab": {
     "base_uri": "https://localhost:8080/"
    },
    "id": "2dd112d3",
    "outputId": "3e78cf13-4a99-4567-ef4c-b99fe50b0998"
   },
   "outputs": [
    {
     "data": {
      "text/plain": [
       "array([[0.15364707, 0.18671103, 0.33269952, 0.18047853, 0.19980986,\n",
       "        0.15391116, 0.07151534, 0.02678498, 0.00432895]])"
      ]
     },
     "execution_count": 42,
     "metadata": {
      "tags": []
     },
     "output_type": "execute_result"
    }
   ],
   "source": [
    "inp"
   ]
  },
  {
   "cell_type": "code",
   "execution_count": 43,
   "id": "25bcb47a",
   "metadata": {
    "colab": {
     "base_uri": "https://localhost:8080/"
    },
    "id": "757b68fb",
    "outputId": "dbd1c0b0-5430-41ee-89e9-aa658e341ecf"
   },
   "outputs": [
    {
     "data": {
      "text/plain": [
       "(1, 9)"
      ]
     },
     "execution_count": 43,
     "metadata": {
      "tags": []
     },
     "output_type": "execute_result"
    }
   ],
   "source": [
    "inp.shape"
   ]
  },
  {
   "cell_type": "code",
   "execution_count": 44,
   "id": "f0944225",
   "metadata": {
    "colab": {
     "base_uri": "https://localhost:8080/"
    },
    "id": "b61d9ef0",
    "outputId": "19b468f1-16f3-4398-f713-0627cc5fb967"
   },
   "outputs": [
    {
     "data": {
      "text/plain": [
       "array([0.15364707, 0.18671103, 0.33269952, 0.18047853, 0.19980986,\n",
       "       0.15391116, 0.07151534, 0.02678498, 0.00432895])"
      ]
     },
     "execution_count": 44,
     "metadata": {
      "tags": []
     },
     "output_type": "execute_result"
    }
   ],
   "source": [
    "inp[0]"
   ]
  },
  {
   "cell_type": "code",
   "execution_count": 45,
   "id": "3ffeee65",
   "metadata": {
    "colab": {
     "base_uri": "https://localhost:8080/"
    },
    "id": "37cf35a6",
    "outputId": "4c0c7562-8800-4c3f-f148-1d9302cfd705"
   },
   "outputs": [
    {
     "data": {
      "text/plain": [
       "[array([0.15364707, 0.18671103, 0.33269952, 0.18047853, 0.19980986,\n",
       "        0.15391116, 0.07151534, 0.02678498, 0.00432895])]"
      ]
     },
     "execution_count": 45,
     "metadata": {
      "tags": []
     },
     "output_type": "execute_result"
    }
   ],
   "source": [
    "temp=list(inp)\n",
    "temp"
   ]
  },
  {
   "cell_type": "code",
   "execution_count": 46,
   "id": "91abb86d",
   "metadata": {
    "id": "6097369d"
   },
   "outputs": [],
   "source": [
    "temp=temp[0].tolist()"
   ]
  },
  {
   "cell_type": "code",
   "execution_count": 47,
   "id": "abe14a3f",
   "metadata": {
    "colab": {
     "base_uri": "https://localhost:8080/"
    },
    "id": "84dd4e52",
    "outputId": "db37dca7-f61c-4bc0-f640-af0c3bdf1409"
   },
   "outputs": [
    {
     "data": {
      "text/plain": [
       "[0.15364707125125443,\n",
       " 0.18671103364495856,\n",
       " 0.3326995193577352,\n",
       " 0.18047852955157662,\n",
       " 0.19980985580732055,\n",
       " 0.15391116040775366,\n",
       " 0.0715153435799926,\n",
       " 0.026784978608778324,\n",
       " 0.004328949453335446]"
      ]
     },
     "execution_count": 47,
     "metadata": {
      "tags": []
     },
     "output_type": "execute_result"
    }
   ],
   "source": [
    "temp"
   ]
  },
  {
   "cell_type": "code",
   "execution_count": 48,
   "id": "8f1a8419",
   "metadata": {
    "id": "760ae840"
   },
   "outputs": [],
   "source": [
    "t=np.array(temp)"
   ]
  },
  {
   "cell_type": "code",
   "execution_count": 49,
   "id": "a2ed0ac6",
   "metadata": {
    "colab": {
     "base_uri": "https://localhost:8080/"
    },
    "id": "e87220f3",
    "outputId": "4e54abcf-1a7e-4daa-8d6d-13b495e88fc0"
   },
   "outputs": [
    {
     "data": {
      "text/plain": [
       "(9,)"
      ]
     },
     "execution_count": 49,
     "metadata": {
      "tags": []
     },
     "output_type": "execute_result"
    }
   ],
   "source": [
    "t.shape"
   ]
  },
  {
   "cell_type": "code",
   "execution_count": 50,
   "id": "efac791d",
   "metadata": {
    "id": "4e80fed4"
   },
   "outputs": [],
   "source": [
    "t=t.reshape(-1,9)"
   ]
  },
  {
   "cell_type": "code",
   "execution_count": 51,
   "id": "9cb876be",
   "metadata": {
    "colab": {
     "base_uri": "https://localhost:8080/"
    },
    "id": "a6eeda4f",
    "outputId": "8f47b1cb-579f-4de6-ef92-a1b9f43e8822"
   },
   "outputs": [
    {
     "data": {
      "text/plain": [
       "(1, 9)"
      ]
     },
     "execution_count": 51,
     "metadata": {
      "tags": []
     },
     "output_type": "execute_result"
    }
   ],
   "source": [
    "t.shape"
   ]
  },
  {
   "cell_type": "code",
   "execution_count": 52,
   "id": "f3f702c2",
   "metadata": {
    "id": "ff1ab582"
   },
   "outputs": [],
   "source": [
    "t=t.reshape(1,9,1)"
   ]
  },
  {
   "cell_type": "code",
   "execution_count": 53,
   "id": "68d09d37",
   "metadata": {
    "colab": {
     "base_uri": "https://localhost:8080/"
    },
    "id": "80bec597",
    "outputId": "36319ccf-d217-4647-afd8-078d58be51b7"
   },
   "outputs": [
    {
     "data": {
      "text/plain": [
       "(1, 9, 1)"
      ]
     },
     "execution_count": 53,
     "metadata": {
      "tags": []
     },
     "output_type": "execute_result"
    }
   ],
   "source": [
    "t.shape"
   ]
  },
  {
   "cell_type": "code",
   "execution_count": 54,
   "id": "d8fb486e",
   "metadata": {
    "id": "970a7b47"
   },
   "outputs": [],
   "source": [
    "pr=model.predict(t,verbose=0)"
   ]
  },
  {
   "cell_type": "code",
   "execution_count": 55,
   "id": "f669fee4",
   "metadata": {
    "colab": {
     "base_uri": "https://localhost:8080/"
    },
    "id": "348d7bd8",
    "outputId": "cd1fea73-eafa-4f81-ee2b-2090ceb82d10"
   },
   "outputs": [
    {
     "data": {
      "text/plain": [
       "0.016548283"
      ]
     },
     "execution_count": 55,
     "metadata": {
      "tags": []
     },
     "output_type": "execute_result"
    }
   ],
   "source": [
    "pr[0][0]"
   ]
  },
  {
   "cell_type": "code",
   "execution_count": 56,
   "id": "5d8b4e13",
   "metadata": {
    "id": "8e0439b6"
   },
   "outputs": [],
   "source": [
    "temp=temp[0:9]"
   ]
  },
  {
   "cell_type": "code",
   "execution_count": 57,
   "id": "33729ea9",
   "metadata": {
    "id": "56d3c2fa"
   },
   "outputs": [],
   "source": [
    "temp.append(pr[0][0])"
   ]
  },
  {
   "cell_type": "code",
   "execution_count": 58,
   "id": "28641ea4",
   "metadata": {
    "colab": {
     "base_uri": "https://localhost:8080/"
    },
    "id": "7eb0e76f",
    "outputId": "c231b101-4e8d-441c-af6d-65b4403422b8"
   },
   "outputs": [
    {
     "data": {
      "text/plain": [
       "[0.15364707125125443,\n",
       " 0.18671103364495856,\n",
       " 0.3326995193577352,\n",
       " 0.18047852955157662,\n",
       " 0.19980985580732055,\n",
       " 0.15391116040775366,\n",
       " 0.0715153435799926,\n",
       " 0.026784978608778324,\n",
       " 0.004328949453335446,\n",
       " 0.016548283]"
      ]
     },
     "execution_count": 58,
     "metadata": {
      "tags": []
     },
     "output_type": "execute_result"
    }
   ],
   "source": [
    "temp"
   ]
  },
  {
   "cell_type": "code",
   "execution_count": 59,
   "id": "87ad1c0c",
   "metadata": {
    "id": "71c3acb8"
   },
   "outputs": [],
   "source": [
    "n=np.array(temp)"
   ]
  },
  {
   "cell_type": "code",
   "execution_count": 60,
   "id": "4c2b4c8a",
   "metadata": {
    "id": "226431bc"
   },
   "outputs": [],
   "source": [
    "n=n.reshape(-1,1)"
   ]
  },
  {
   "cell_type": "code",
   "execution_count": 61,
   "id": "74dd0fbf",
   "metadata": {
    "colab": {
     "base_uri": "https://localhost:8080/"
    },
    "id": "464f3091",
    "outputId": "7c67bb8c-bf0d-42f5-f4f3-779da39c14b8"
   },
   "outputs": [
    {
     "data": {
      "text/plain": [
       "(10, 1)"
      ]
     },
     "execution_count": 61,
     "metadata": {
      "tags": []
     },
     "output_type": "execute_result"
    }
   ],
   "source": [
    "n.shape"
   ]
  },
  {
   "cell_type": "code",
   "execution_count": 62,
   "id": "01d3a87f",
   "metadata": {
    "id": "45c606d2"
   },
   "outputs": [],
   "source": [
    "p=scaler.inverse_transform(n)"
   ]
  },
  {
   "cell_type": "code",
   "execution_count": 63,
   "id": "b7245ad2",
   "metadata": {
    "colab": {
     "base_uri": "https://localhost:8080/"
    },
    "id": "9a50ae84",
    "outputId": "030f38e7-4e16-4595-a339-5166137b8758"
   },
   "outputs": [
    {
     "data": {
      "text/plain": [
       "array([[ 727.25      ],\n",
       "       [ 883.75      ],\n",
       "       [1574.75      ],\n",
       "       [ 854.25      ],\n",
       "       [ 945.75      ],\n",
       "       [ 728.5       ],\n",
       "       [ 338.5       ],\n",
       "       [ 126.78      ],\n",
       "       [  20.49      ],\n",
       "       [  78.32716239]])"
      ]
     },
     "execution_count": 63,
     "metadata": {
      "tags": []
     },
     "output_type": "execute_result"
    }
   ],
   "source": [
    "p"
   ]
  },
  {
   "cell_type": "code",
   "execution_count": 64,
   "id": "792c1ff4",
   "metadata": {
    "id": "e62f2a38"
   },
   "outputs": [],
   "source": [
    "day_new=np.arange(1,9)\n",
    "day_pred=np.arange(9,10)"
   ]
  },
  {
   "cell_type": "code",
   "execution_count": 65,
   "id": "be363dde",
   "metadata": {
    "colab": {
     "base_uri": "https://localhost:8080/",
     "height": 282
    },
    "id": "eb172c0c",
    "outputId": "f35ae74b-4619-4aa7-e4ad-032933e63fdb"
   },
   "outputs": [
    {
     "data": {
      "text/plain": [
       "[<matplotlib.lines.Line2D at 0x7fefe26fba50>]"
      ]
     },
     "execution_count": 65,
     "metadata": {
      "tags": []
     },
     "output_type": "execute_result"
    },
    {
     "data": {
      "image/png": "[encoded data removed]",
      "text/plain": [
       "<Figure size 432x288 with 1 Axes>"
      ]
     },
     "metadata": {
      "needs_background": "light",
      "tags": []
     },
     "output_type": "display_data"
    }
   ],
   "source": [
    "plt.plot(p[0:9])\n",
    "plt.plot(p[9])"
   ]
  },
  {
   "cell_type": "code",
   "execution_count": 65,
   "id": "4a95b86b",
   "metadata": {
    "id": "b6ec9235"
   },
   "outputs": [],
   "source": []
  },
  {
   "cell_type": "code",
   "execution_count": 65,
   "id": "86ad34cd",
   "metadata": {
    "id": "97e6c334"
   },
   "outputs": [],
   "source": []
  }
 ],
 "metadata": {
  "accelerator": "GPU",
  "colab": {
   "collapsed_sections": [],
   "name": "Solar_energy_forecasting.ipynb",
   "provenance": [],
   "toc_visible": true
  },
  "kernelspec": {
   "display_name": "Python 3",
   "language": "python",
   "name": "python3"
  },
  "language_info": {
   "codemirror_mode": {
    "name": "ipython",
    "version": 3
   },
   "file_extension": ".py",
   "mimetype": "text/x-python",
   "name": "python",
   "nbconvert_exporter": "python",
   "pygments_lexer": "ipython3",
   "version": "3.7.10"
  }
 },
 "nbformat": 4,
 "nbformat_minor": 5
}
